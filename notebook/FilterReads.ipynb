{
 "cells": [
  {
   "cell_type": "code",
   "execution_count": 1,
   "metadata": {
    "collapsed": false
   },
   "outputs": [],
   "source": [
    "import pysam\n",
    "\n",
    "import numpy as np\n",
    "import pandas as pd\n",
    "\n",
    "from six.moves import urllib\n"
   ]
  },
  {
   "cell_type": "code",
   "execution_count": 154,
   "metadata": {
    "collapsed": false
   },
   "outputs": [],
   "source": [
    "\n",
    "urltemplate = \"https://raw.githubusercontent.com/hammerlab/varlens/master/test/data/CELSR1/bams/{}\"\n",
    "url = urllib.request.URLopener()\n",
    "url.retrieve(urltemplate.format(\"bam_0.bam\"), \"bam_0.bam\")\n",
    "url.retrieve(urltemplate.format(\"bam_0.bam.bai\"), \"bam_0.bam.bai\")\n",
    "\n",
    "samfile = pysam.AlignmentFile(\"bam_0.bam\", \"rb\")"
   ]
  },
  {
   "cell_type": "code",
   "execution_count": 219,
   "metadata": {
    "collapsed": true
   },
   "outputs": [],
   "source": [
    "\n",
    "def print_reads(samfile, chromosome, location, ref, alt):\n",
    "    print(\"-\", location, ref, alt)\n",
    "    if len(alt) > 0 and ref.startswith(alt):\n",
    "        ref = ref[len(alt):]\n",
    "        location += len(alt)\n",
    "        alt = \"\"\n",
    "    if len(ref) > 0 and alt.startswith(ref):\n",
    "        alt = alt[len(ref):]\n",
    "        location += len(ref)\n",
    "        ref = \"\"\n",
    "        \n",
    "    if len(ref) == 0:\n",
    "        # by convention, if the mutation is an insertion \n",
    "        # then the location refers to the base before it\n",
    "        start_pos = location \n",
    "        end_pos = location + 1\n",
    "    elif len(alt) == 0:\n",
    "        assert len(ref) > 0\n",
    "        # if we're deleting 1 or more bases then the location refers to the first base that's deleted\n",
    "        start_pos = location\n",
    "        end_pos = location + len(ref) \n",
    "    else:\n",
    "        assert len(ref) == 1\n",
    "        assert len(alt) == 1\n",
    "        start_pos = location\n",
    "        end_pos = location + 1\n",
    "\n",
    "    # Let pysam pileup the reads covering our location of interest for us\n",
    "    for  column in samfile.pileup(chromosome, start_pos-1, end_pos):\n",
    "        if column.pos != start_pos:\n",
    "            continue\n",
    "        for i, read in enumerate(column.pileups):\n",
    "            if read.is_refskip:\n",
    "                # if read sequence doesn't actually align here, skip it\n",
    "                continue\n",
    "            elif read.is_del and len(ref) > 0:\n",
    "                # if read has a deletion at this location and variant isn't a deletion\n",
    "                continue\n",
    "            pos_in_read = read.query_position  # relative location\n",
    "            reference_positions = read.alignment.get_reference_positions(full_length=False)\n",
    "            full_read_seq = read.alignment.query_sequence  # read sequence\n",
    "            \n",
    "            if start_pos in reference_positions and end_pos in reference_positions:\n",
    "                read_start_pos = reference_positions.index(start_pos)\n",
    "                read_end_pos = reference_positions.index(end_pos)\n",
    "                \n",
    "                read_seq_at_variant_locus = full_read_seq[read_start_pos:read_end_pos]\n",
    "                if read_seq_at_variant_locus == alt:\n",
    "                    prefix = full_read_seq[:read_start_pos]\n",
    "                    suffix = full_read_seq[read_end_pos:]\n",
    "                    if len(prefix) > 0 and len(suffix) > 0:\n",
    "                        print(prefix,read_seq_at_variant_locus, suffix)\n",
    "                        "
   ]
  },
  {
   "cell_type": "code",
   "execution_count": 220,
   "metadata": {
    "collapsed": false
   },
   "outputs": [],
   "source": [
    "\n",
    "\n",
    "# C -> T variant at this particular locus\n",
    "chromosome = \"chr22\"\n",
    "location = 46931062\n",
    "\n",
    "ref = \"G\"\n",
    "alt = \"A\"\n"
   ]
  },
  {
   "cell_type": "code",
   "execution_count": 221,
   "metadata": {
    "collapsed": false
   },
   "outputs": [
    {
     "name": "stdout",
     "output_type": "stream",
     "text": [
      "- 46931062 G A\n",
      "-- 46931062 G A\n",
      "GGCCGCATCCTCATTCAGACGAAGCTCGTAGGTGGGCTGCGTGAACACCGGGTCGTTGTCATTCACGTCCAGCACCGTGATGGACACGCTGGTGGAGG A G\n",
      "CGCATCCTCATTCAGACGAAGCTCGTAGGTGGGCTGCGTGAACACCGGGTCGTTGTCATTCACGTCCAGCACCGTGATGGACACGCTGGTGGAGG A GCTC\n",
      "CATCCTCATTCAGACGAAGCTCGTAGGTGGGCTGCGTGAACACCGGGTCGTTGTCATTCACGTCCAGCACCGTGATGGACACGCTGGTGGAGG A GCTCAT\n",
      "ATTCAGACGAAGCTCGTAGGTGGGCTGCGTGAACACCGGGTCGTTGTCATTCACGTCAAGCACCGTGATGGACACGCTGGTGGAGG A GCTCATGGGGGGC\n",
      "TCAGACGAAGCTCGTAGGTGGGCTGCGTGAACACCGGGTCGTTGTCATTCACGTCCAGCACCGTGATGGACACGCTGGTGGAGG A GCTCATGGGGTGCCA\n",
      "GACGAAGCTCGTAGGTGGGCTGCGTGAACACCGGGTCGTTGTCATTCACGTCCAGCACCGTGATGGACACGCTGGTGGAGG A GCTCATGGGGGCCAGCCG\n",
      "CGAAGCTCGTAGGTGGGCTGCGTGAACACCGGGTCGTTGTCATTCACGTCCAGCACCGTGATGGACACGCTGGTGGAGG A GCTCATGGGGGGCCAGCCGT\n",
      "AGCTCGTAGGTGGGCTGCGTGAACACCGGGTCGTTGTCATTCACGTCCAGCACCGTGATGGACACGCTGGTGGAGG A GCTCATGGGGGGCCAGCCGTGGA\n",
      "GCTCGTAGGTGGGCTGCGTGAACACCGGGTCGTTGTCATTCACGTCCAGCACCGTGATGGACACGCTGGTGGAGG A GCTCATGGGGGGCCAGCCGTGGTC\n",
      "CTCGTAGGTGGGCTGCGTGAACACCGGGTCGTTGTCATTCACGTCCAGCACCGTGATGGACACGCTGGTGGAGG A GCTCATGGGGGGCCAGCCGTGGTCC\n",
      "TCGTAGGTGGGCTGCGTGAACACCGGGTCGTTGTCATTCACGTCCAGCACCGTGATGGACACGCTGGTGGAGG A GCTCATGGGGGGCCAGCCGTGGTCCA\n",
      "CGTAGGTGGGCTGCGTGAACACCGGGTCGTTGTCATTCACGTCCAGCACCGTGATGGACACGCTGGTGGAGG A GCTCATGGGGGGCCAGCCGTGGTCCAC\n",
      "GTGGGCTGCGTGAACACCGGGTCGTTGTCATTCACGTCCAGCACCGTGATGGACACGCTGGTGGAGG A GCTCATGGGGGGCCAGCCGTGGTCCACCGCCT\n",
      "GTGGGCTGCGTGAACACCGGGTCGTTGTCATTCACGTCCAGCACCGTGATGGACACGCTGGTGGAGG A GCTCATGGGGGGCCAGCCGTGGTCCACCGCCT\n",
      "GGCTGCGTGAACACCGGGTCGTTGTCATTCACGTCCAGCACCGTGATGGACACGCTGGTGGAGG A GCTCATGGGGGGCCAGCCGTGGTCCACCGCCTCCA\n",
      "CGTGAACACCGGGTCGTTGTCATTCACGTCCAGCACCGTGATGGACACGCTGGTGGAGG A GCTCATGGGGGGCCAGCCGTGGTCCACCGCCTCCACCCCG\n",
      "TGAACACCGGGTCGTTGTCATTCACGTCCAGCACCGTGATGGACACGCTGGTGGAGG A GCTCATGGGGGGCCAGCCGTGGTCCACCGCCTCCACCCCGAA\n",
      "GAACACCGGGTCGTTGTCATTCACGTCCAGCACCGTGATGGACACGCTGGTGGAGG A GCTCATGGGGGGCCAGCCGTGGTCCACCGCCTCCACCCCGAAG\n",
      "CGGGTCGTTGTCATTCACGTCCAGCACCGTGATGGACACGCTGGTGGAGG A GCTCATGGGGGGCCAGCCGTGGTCCACCGCCTCCACCCCGAAGCTGTAG\n",
      "GGGTCGTTGTCATTCACGTCCAGCACCGTGATGGACACGCTGGTGGAGG A GCTCATGGGGGGCCAGCCGTGGTCCACCGCCTCCACCCCGAAGCTGTAGT\n",
      "GGTTCGTTGTCATTCACGTCCAGCACCGTGATGGACACGCTGGTGGAGG A GCTCATGGGGGGCCAGCCGTGGTCCACCGCCTCCACCCCGAAGCTGTAGT\n",
      "CGTTGTCATTCACGTCCAGCACCGTGATGGACACGCTGGTAGAGG A GCTCATGGGGGGCCAGCCGTGGTCCACCGCCTCCACCCCGAAGCTGTAGTGCTC\n",
      "TGTCATTCACGTCCAGCACCGTGATGGACACGCTGGTGGAGG A GCTCATGGGGGGCCAGCCGTGGTCCACCGCCTCCACCCCGAAGCTGTAGTGCTCCAC\n",
      "TCATTCACGTCCAGCACCGTGATGGACACGCTGGTGGAGG A GCTCATGGGGGGCCAGCCGTGGTCCACCGCCTCCACCCCGAAGCTGTAGTGCTCCACCT\n",
      "ATTCACGTCCAGCACCGTGATGGACACGCCGGTGGAGG A GCTCATGGGGGGCCAGCCGTGGTCCACCGCCTCCTCCCCGAAGCTGTAGTGCTCCACCACC\n",
      "TTCACGTCCAGCACCGTGATGGACACGCTGGTGGAGG A GCTCATGGGGGGCCAGCCGTGGTCCACCGCCTCCACCCCGAAGCTGTAGTGCTCCACCTCCT\n",
      "TCACGTCCAGCACCGTGATGGACACGCTGGTGGAGG A GCTCATGGGGGGCCAGCCGTGGTCCACCGCCTCCACCCCGAAGCTGTAGTGCTCCACCTCCTC\n",
      "ACGTCCAGCACCGTGATGGACACGCTGGTGGAGG A GCTCATGGGGGGCCAGCCGTGGTCCACCGCCTCCACCCCGAAGCTGTAGTGCTCCACCTCCTCGC\n",
      "GTCCAGCACCGTGATGGACACGCTGGTGGAGG A GCTCATGGGGGGCCAGCCGTGGTCCACCGCCTCCACCCCGAAGCTGTAGTGCTCCACCTCCTCGCGG\n",
      "TCCAGCACCGTGATGGACACGCTGGTGGAGG A GCTCATGGGGGGCCAGCCGTGGTCCACCGCCTCCACCCCGAAGCTGTAGTGCTCCACCTACTCGCGGT\n",
      "CAGCACCGTGATGGACACGCTGGTGGAGG A GCTCATGGGGGGCCAGCCGTGGTCCACCGCCTCCACCCCGAAGCTGTAGTGCTCCACCTCCTCGCGTTCC\n",
      "AGCACCGTGATGGGCACGCTGGTGGAGG A GCTCATGGGGGGCCAGCCGTGGTCCACCGCCTCCACCCCGAAGCTGTAGTGCTCCACCTCCTCGCGGTCCA\n",
      "CCGTGATGGACACGCTGGTGGAGG A GCTCATGGGGGGCCAGCCGTGGTCCACCGCCTCCACCCCGAAGCTGTAGTGCTCCACCTCCTCGCGGTCCAGCTC\n",
      "GTGATGGACACGCTGGTGGAGG A GCTCATGGGGGGCCAGCCGTGGTCCACCGCCTCCACCCCGAAGCTGTAGTGCTCCACCTCCTCGCGGTCCAGCTCGG\n",
      "GATGGACACGCTGGTGGAGG A GCTCATGGGGGGCCAGCCGTGGTCCACCGCCTCCACCCCGAAGCTGTAGTGCTCCACCTCCTCGCGGTCCAGCTCGGCA\n",
      "TGGACACGCTGGTGGAGG A GCTCATGGGGGGCCAGCCGTGGTCCACCGCCTCCACCCCGAAGCTGTAGTGCTCCACCTCCTCGCGGTCCAGCTCGGCACA\n",
      "GACACGCTGGTGGAGG A GCTCATGGGGGGCCAGCCGTGGTCCACCGCCTCCACCCCGAAGCTGTAGTGCTCCACCTCCTCGCGGTCCAGCTCGGCACACA\n",
      "CGCTGGTGGAGG A GCTCATGGGGGGCCAGCCGTGGTCCACCGCCTCCACCCCGAAGCTGTAGTGCTCCACCTCCTCGCGGTCCAGCTCGGCACACACTGT\n",
      "CGATGGTGGAGG A GCTCATGGGGGGCCAGCCGTGGTCCACCGCCTCCACCCCGAAGCTGTAGTGCTCCACCTCCTCGCGGTCCAGCTCGGCACACACTGT\n",
      "GCTGGTGGAGG A GCTCATGGGGGTCCAGCAGTGGTCCACCGCCTCCACCCCGAAGCTGTAGTGCTCCACCTCCTCGCGGTCCAGCTCGGCACACACTGTG\n",
      "GCTGGTGGAGG A GCTCATGGGGGGCCAGCCGTGGTCCACCGCCTCCACCCCGAAGCTGTAGTGCTCCACCTCCTCGCGGTCCAGCTCGGCACACACTGTG\n",
      "GGTGGAGG A GCTCATGGGGGGCCAGCCGTGGTCCACCGCCTCCACCCCGAAGCTGTAGTGCTCCACCTCCTCGCGGTCCAGCTCGGCACACACTGTGATC\n",
      "GGTGGAGG A GCTCATGGGGGGCCAGCCGTGGTCCACCGCCTCCACCCCGAAGCTGTAGTGCTCCACCTCCTCGCGGTCCAGCTCGGCACACACTGTGATC\n",
      "GTGGAGG A GCTCATGGGGGGCCAGCCGTGGTCCACCGCCTCCACCCCGAAGCTGTAGTGCTCCACCTCCTCGTGGTCCAGCCCGGCACACACTGTGATCC\n",
      "AGG A GCTCATGGGGGGCCAGCCGTGGTCCACCGCCTCCACCCCGAAGCTGTAGTGCTCCACCTCCTCGCGGTCCAGCTCGGCACACACTGTGATCCAACC\n",
      "GG A GCTCATGGGGGGCCAGCCGTGGTCCACCGCCTCCACCCCGAAGCTGTAGTGCTCCACCTCCTCGCGGTCCAGCTCGGCACACACTGTGATCCAACCG\n"
     ]
    }
   ],
   "source": [
    "print_reads(samfile, chromosome, location , ref, alt)\n",
    "\n",
    "\n"
   ]
  },
  {
   "cell_type": "code",
   "execution_count": 215,
   "metadata": {
    "collapsed": false
   },
   "outputs": [],
   "source": [
    "reads = samfile.fetch(reference=\"chr22\", start=location-1, end=location)"
   ]
  },
  {
   "cell_type": "code",
   "execution_count": 192,
   "metadata": {
    "collapsed": false
   },
   "outputs": [
    {
     "data": {
      "text/plain": [
       "True"
      ]
     },
     "execution_count": 192,
     "metadata": {},
     "output_type": "execute_result"
    }
   ],
   "source": [
    "read.seq == read.query_alignment_sequence\n",
    "    "
   ]
  },
  {
   "cell_type": "code",
   "execution_count": 195,
   "metadata": {
    "collapsed": false
   },
   "outputs": [],
   "source": [
    "aln = pysam.AlignedSegment??"
   ]
  },
  {
   "cell_type": "code",
   "execution_count": 196,
   "metadata": {
    "collapsed": true
   },
   "outputs": [],
   "source": [
    "aln = pysam.AlignedSegment()"
   ]
  },
  {
   "cell_type": "code",
   "execution_count": 197,
   "metadata": {
    "collapsed": true
   },
   "outputs": [],
   "source": [
    "ref = \"ACCA\"\n",
    "aln.seq = \"ACCCTTTA\""
   ]
  },
  {
   "cell_type": "code",
   "execution_count": 198,
   "metadata": {
    "collapsed": false
   },
   "outputs": [
    {
     "data": {
      "text/plain": [
       "'ACCCTTTA'"
      ]
     },
     "execution_count": 198,
     "metadata": {},
     "output_type": "execute_result"
    }
   ],
   "source": [
    "aln.cigarstring = \"3M1I1D\""
   ]
  },
  {
   "cell_type": "code",
   "execution_count": 87,
   "metadata": {
    "collapsed": true
   },
   "outputs": [],
   "source": []
  },
  {
   "cell_type": "code",
   "execution_count": null,
   "metadata": {
    "collapsed": true
   },
   "outputs": [],
   "source": []
  }
 ],
 "metadata": {
  "kernelspec": {
   "display_name": "Python 3",
   "language": "python",
   "name": "python3"
  },
  "language_info": {
   "codemirror_mode": {
    "name": "ipython",
    "version": 3
   },
   "file_extension": ".py",
   "mimetype": "text/x-python",
   "name": "python",
   "nbconvert_exporter": "python",
   "pygments_lexer": "ipython3",
   "version": "3.4.3"
  }
 },
 "nbformat": 4,
 "nbformat_minor": 0
}
