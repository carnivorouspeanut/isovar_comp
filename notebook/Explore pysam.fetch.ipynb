{
 "cells": [
  {
   "cell_type": "code",
   "execution_count": 1,
   "metadata": {},
   "outputs": [],
   "source": [
    "import pysam"
   ]
  },
  {
   "cell_type": "code",
   "execution_count": 2,
   "metadata": {},
   "outputs": [],
   "source": [
    "samfile = pysam.AlignmentFile(\"bam_0.bam\")"
   ]
  },
  {
   "cell_type": "code",
   "execution_count": 11,
   "metadata": {},
   "outputs": [
    {
     "name": "stdout",
     "output_type": "stream",
     "text": [
      "HISEQ:142:C5822ANXX:3:2116:16538:101199\t83\t22\t46929962\t60\t100M\t22\t46929716\t100\tCATGATCTGGGCATTAGGGCCTTCATCAGGGTCGTTAGCACGAATCTTTGCCACCACCGACCCCACTGGGTTGTTCTCCTCAACAAACAGCTCCAGTTCG\tarray('B', [33, 26, 28, 30, 26, 30, 34, 29, 32, 31, 33, 34, 27, 30, 27, 30, 32, 32, 33, 33, 34, 30, 29, 33, 27, 29, 33, 30, 32, 32, 32, 29, 27, 32, 30, 27, 30, 33, 33, 27, 27, 32, 28, 28, 29, 34, 30, 30, 29, 33, 33, 33, 27, 33, 33, 27, 33, 27, 32, 27, 33, 33, 33, 33, 27, 34, 29, 32, 32, 32, 30, 29, 32, 30, 29, 34, 29, 33, 34, 29, 33, 28, 27, 33, 28, 28, 27, 33, 30, 33, 34, 29, 33, 33, 30, 31, 29, 27, 26, 29])\t[('BD', 'MLLMPNQNJNNNKJLLHLLMJJLMLLMKHLLMLJIKLMIKLJILKJBJMLLIKLIKKLMKHHLIMNLHLJJIIJJJJLJKIIHIBJIMLNLLNONNJMII'), ('PG', 'MarkDuplicates'), ('RG', 'FAKE_Normal_Exome'), ('BI', 'OPOOSRSRNQRQOMPQKOPNMMPOOPPPKONNNLKNQOLOMLKNMLELOONLONLOMMOOJJNLNNNINLLLLKLLMLLNLKKLDKKNPPMNNPONMOMM'), ('NM', 0), ('BQ', '@@@@@@@@@@@@@@@@@@@@@@@@@@@@@@@@@@@@@@@@@@@@@@@@@@@@@@@@@@@@@@@@@@@@@@@@@@@@@@@@@@@@@@@@@@@@@@@@@@@@'), ('MQ', 60), ('OQ', 'FGGGGFGGGDGFGGGGGGGGGGGGGGGGGGGGGGGGGGGGGGGFGGGGGGGGGGGGGGGGGGGGGGGGGGGGGGGGGGGGGGGGGGGGGGGGGGGBCBBB'), ('AS', 100), ('XS', 0)]\n",
      "HISEQ:142:C5822ANXX:3:1106:18985:32932\t147\t22\t46929964\t60\t100M\t22\t46929901\t100\tTGATCTGGGCATTAGGGCCTTCATCAGGGTCGTTAGCACGAATCTTTGCCACCACCGACCCCACTGGGTTGTTCTCCTCAACAAACAGCTCCAGTTCGTC\tarray('B', [28, 30, 25, 27, 33, 29, 32, 32, 33, 33, 27, 30, 27, 30, 32, 32, 33, 33, 34, 30, 29, 33, 27, 29, 33, 30, 32, 32, 32, 29, 27, 32, 29, 27, 30, 33, 33, 27, 27, 32, 28, 27, 29, 34, 30, 30, 29, 33, 33, 33, 27, 33, 33, 27, 33, 27, 32, 27, 33, 33, 33, 33, 27, 34, 29, 32, 31, 31, 30, 28, 31, 30, 28, 33, 28, 32, 33, 28, 32, 27, 27, 32, 27, 27, 26, 32, 29, 32, 33, 28, 32, 32, 29, 31, 29, 27, 25, 28, 28, 29])\t[('BD', 'LMLKROKNONKJLLHLLMJJLMLLMKHLLMLJIKLMIKKIHKJIAILKKHJKHJJKLJGGKHLMKGKIIHIIJJJLJKIIHIBIHLKMJKLMLLLPLLII'), ('PG', 'MarkDuplicates'), ('RG', 'FAKE_Normal_Exome'), ('BI', 'OOONTSORSRPNQQLPQOMMPOOPPPKONOOMLORPMPNMKNMLELOONLONLOMMOOJJNLNONJNLLLLLMMNMLNLKKLDKKNPOMNNOOMMPONMM'), ('NM', 0), ('BQ', '@@@@@@@@@@@@@@@@@@@@@@@@@@@@@@@@@@@@@@@@@@@@@@@@@@@@@@@@@@@@@@@@@@@@@@@@@@@@@@@@@@@@@@@@@@@@@@@@@@@@'), ('MQ', 60), ('OQ', 'GGGGFGGGGGGGGGGGGGGGGGGGGGGGGGGGCGGGFGGGGGGGGGGGGGGGGEGGGGGGGGGGGGGGGGGFGGGGGGGGFGGGGGGGGGGGGGGCCCCC'), ('AS', 100), ('XS', 0)]\n"
     ]
    }
   ],
   "source": [
    "for aligned_segment in samfile.fetch('chr22', 46929962, 46929966):\n",
    "    print(aligned_segment)\n",
    "    "
   ]
  },
  {
   "cell_type": "code",
   "execution_count": 12,
   "metadata": {},
   "outputs": [
    {
     "data": {
      "text/plain": [
       "['__class__',\n",
       " '__copy__',\n",
       " '__deepcopy__',\n",
       " '__delattr__',\n",
       " '__dir__',\n",
       " '__doc__',\n",
       " '__eq__',\n",
       " '__format__',\n",
       " '__ge__',\n",
       " '__getattribute__',\n",
       " '__gt__',\n",
       " '__hash__',\n",
       " '__init__',\n",
       " '__init_subclass__',\n",
       " '__le__',\n",
       " '__lt__',\n",
       " '__ne__',\n",
       " '__new__',\n",
       " '__pyx_vtable__',\n",
       " '__reduce__',\n",
       " '__reduce_ex__',\n",
       " '__repr__',\n",
       " '__setattr__',\n",
       " '__sizeof__',\n",
       " '__str__',\n",
       " '__subclasshook__',\n",
       " 'aend',\n",
       " 'alen',\n",
       " 'aligned_pairs',\n",
       " 'bin',\n",
       " 'blocks',\n",
       " 'cigar',\n",
       " 'cigarstring',\n",
       " 'cigartuples',\n",
       " 'compare',\n",
       " 'flag',\n",
       " 'get_aligned_pairs',\n",
       " 'get_blocks',\n",
       " 'get_overlap',\n",
       " 'get_reference_positions',\n",
       " 'get_reference_sequence',\n",
       " 'get_tag',\n",
       " 'get_tags',\n",
       " 'has_tag',\n",
       " 'infer_query_length',\n",
       " 'inferred_length',\n",
       " 'is_duplicate',\n",
       " 'is_paired',\n",
       " 'is_proper_pair',\n",
       " 'is_qcfail',\n",
       " 'is_read1',\n",
       " 'is_read2',\n",
       " 'is_reverse',\n",
       " 'is_secondary',\n",
       " 'is_supplementary',\n",
       " 'is_unmapped',\n",
       " 'isize',\n",
       " 'mapping_quality',\n",
       " 'mapq',\n",
       " 'mate_is_reverse',\n",
       " 'mate_is_unmapped',\n",
       " 'mpos',\n",
       " 'mrnm',\n",
       " 'next_reference_id',\n",
       " 'next_reference_name',\n",
       " 'next_reference_start',\n",
       " 'opt',\n",
       " 'overlap',\n",
       " 'pnext',\n",
       " 'pos',\n",
       " 'positions',\n",
       " 'qend',\n",
       " 'qlen',\n",
       " 'qname',\n",
       " 'qqual',\n",
       " 'qstart',\n",
       " 'qual',\n",
       " 'query',\n",
       " 'query_alignment_end',\n",
       " 'query_alignment_length',\n",
       " 'query_alignment_qualities',\n",
       " 'query_alignment_sequence',\n",
       " 'query_alignment_start',\n",
       " 'query_length',\n",
       " 'query_name',\n",
       " 'query_qualities',\n",
       " 'query_sequence',\n",
       " 'reference_end',\n",
       " 'reference_id',\n",
       " 'reference_length',\n",
       " 'reference_name',\n",
       " 'reference_start',\n",
       " 'rlen',\n",
       " 'rname',\n",
       " 'rnext',\n",
       " 'seq',\n",
       " 'setTag',\n",
       " 'set_tag',\n",
       " 'set_tags',\n",
       " 'tags',\n",
       " 'template_length',\n",
       " 'tid',\n",
       " 'tlen',\n",
       " 'tostring']"
      ]
     },
     "execution_count": 12,
     "metadata": {},
     "output_type": "execute_result"
    }
   ],
   "source": [
    "dir(aligned_segment)"
   ]
  },
  {
   "cell_type": "code",
   "execution_count": null,
   "metadata": {
    "collapsed": true
   },
   "outputs": [],
   "source": []
  },
  {
   "cell_type": "code",
   "execution_count": null,
   "metadata": {
    "collapsed": true
   },
   "outputs": [],
   "source": []
  }
 ],
 "metadata": {
  "kernelspec": {
   "display_name": "Python 3",
   "language": "python",
   "name": "python3"
  }
 },
 "nbformat": 4,
 "nbformat_minor": 2
}
